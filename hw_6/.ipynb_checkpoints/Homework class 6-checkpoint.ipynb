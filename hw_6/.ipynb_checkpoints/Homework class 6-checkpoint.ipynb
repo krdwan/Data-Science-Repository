{
 "cells": [
  {
   "cell_type": "markdown",
   "metadata": {},
   "source": [
    "## Assignment\n",
    "\n",
    "### Part I\n",
    "\n",
    "#### Clean your data\n",
    "\n",
    "+ Read in temp_data.txt\n",
    "    + It won't be easy! You'll need to find a way to clean the data\n",
    "    + Try opening the file in a text editor first\n",
    "+ Read in temp_X.csv\n",
    "+ Merge the X variable from temp_X with the data from temp_data\n",
    "+ Note that we discussed this in class, but it's something you'll just need to practice on your own. \n",
    "+ You will struggle with this and it's ok\n",
    "+ Check out the documentation for read_csv() in the pandas package\n",
    "\n",
    "\n",
    "### Part II\n",
    "\n",
    "#### Run a linear regression\n",
    "+ Using X to predict temperature \n",
    "+ Interpret your coefficients!\n",
    "+ What is one potential use for this linear regression equation? \n",
    "+ What does this linear regression mean? \n",
    "+ Is this a good model? Why or why not? \n",
    "\n",
    "    \n"
   ]
  },
  {
   "cell_type": "code",
   "execution_count": 1,
   "metadata": {
    "collapsed": true
   },
   "outputs": [],
   "source": [
    "import numpy as np\n",
    "import pandas as pd\n",
    "from sklearn import linear_model, metrics\n",
    "\n"
   ]
  },
  {
   "cell_type": "code",
   "execution_count": 2,
   "metadata": {
    "collapsed": false
   },
   "outputs": [
    {
     "data": {
      "text/html": [
       "<div>\n",
       "<table border=\"1\" class=\"dataframe\">\n",
       "  <thead>\n",
       "    <tr style=\"text-align: right;\">\n",
       "      <th></th>\n",
       "      <th>Station ID</th>\n",
       "      <th>Series Number</th>\n",
       "      <th>Date</th>\n",
       "      <th>Temperature (C)</th>\n",
       "      <th>Uncertainty (C)</th>\n",
       "      <th>Observations</th>\n",
       "      <th>Time of Observation</th>\n",
       "    </tr>\n",
       "  </thead>\n",
       "  <tbody>\n",
       "  </tbody>\n",
       "</table>\n",
       "</div>"
      ],
      "text/plain": [
       "Empty DataFrame\n",
       "Columns: [Station ID, Series Number, Date, Temperature (C), Uncertainty (C), Observations, Time of Observation]\n",
       "Index: []"
      ]
     },
     "execution_count": 2,
     "metadata": {},
     "output_type": "execute_result"
    }
   ],
   "source": [
    "tempX = pd.read_csv('./temp_X.csv')\n",
    "\n",
    "columns = ['Station ID','Series Number','Date','Temperature (C)','Uncertainty (C)', 'Observations', 'Time of Observation']\n",
    "tempData = pd.DataFrame(columns=columns)\n",
    "#df2 = pd.DataFrame([[1,1,1,1,1,1,1]], columns=columns)\n",
    "#df.append(df2)\n",
    "\n",
    "tempData"
   ]
  },
  {
   "cell_type": "code",
   "execution_count": 3,
   "metadata": {
    "collapsed": false
   },
   "outputs": [],
   "source": [
    "f = open('temp_data.txt','r')\n",
    "#data = f.read()\n",
    "for line in f:\n",
    "    if line[0] != '%':\n",
    "        this=line.split()\n",
    "        this[0] = int(this[0])\n",
    "        this[1] = int(this[1])\n",
    "        this[2] = float(this[2])\n",
    "        this[3] = float(this[3])\n",
    "        this[4] = float(this[4])\n",
    "        this[5] = int(this[5])\n",
    "        this[6] = int(this[6])\n",
    "        dfx = pd.DataFrame([this],columns=columns)\n",
    "        tempData = tempData.append(dfx,ignore_index=True)\n",
    "f.close()"
   ]
  },
  {
   "cell_type": "code",
   "execution_count": 4,
   "metadata": {
    "collapsed": false
   },
   "outputs": [],
   "source": [
    "columns[0]='Station_ID'\n",
    "columns[1]='Series_Number'"
   ]
  },
  {
   "cell_type": "code",
   "execution_count": 5,
   "metadata": {
    "collapsed": false
   },
   "outputs": [
    {
     "data": {
      "text/html": [
       "<div>\n",
       "<table border=\"1\" class=\"dataframe\">\n",
       "  <thead>\n",
       "    <tr style=\"text-align: right;\">\n",
       "      <th></th>\n",
       "      <th>Station_ID</th>\n",
       "      <th>Series_Number</th>\n",
       "      <th>Date</th>\n",
       "      <th>Temperature (C)</th>\n",
       "      <th>Uncertainty (C)</th>\n",
       "      <th>Observations</th>\n",
       "      <th>Time of Observation</th>\n",
       "    </tr>\n",
       "  </thead>\n",
       "  <tbody>\n",
       "    <tr>\n",
       "      <th>141632</th>\n",
       "      <td>129867.0</td>\n",
       "      <td>1.0</td>\n",
       "      <td>2011.208</td>\n",
       "      <td>12.885</td>\n",
       "      <td>0.0499</td>\n",
       "      <td>31.0</td>\n",
       "      <td>24.0</td>\n",
       "    </tr>\n",
       "    <tr>\n",
       "      <th>141633</th>\n",
       "      <td>129867.0</td>\n",
       "      <td>1.0</td>\n",
       "      <td>2011.292</td>\n",
       "      <td>17.630</td>\n",
       "      <td>0.0507</td>\n",
       "      <td>30.0</td>\n",
       "      <td>24.0</td>\n",
       "    </tr>\n",
       "    <tr>\n",
       "      <th>141634</th>\n",
       "      <td>129867.0</td>\n",
       "      <td>1.0</td>\n",
       "      <td>2011.375</td>\n",
       "      <td>20.341</td>\n",
       "      <td>0.0499</td>\n",
       "      <td>31.0</td>\n",
       "      <td>24.0</td>\n",
       "    </tr>\n",
       "    <tr>\n",
       "      <th>141635</th>\n",
       "      <td>129867.0</td>\n",
       "      <td>1.0</td>\n",
       "      <td>2011.458</td>\n",
       "      <td>27.852</td>\n",
       "      <td>0.0507</td>\n",
       "      <td>30.0</td>\n",
       "      <td>24.0</td>\n",
       "    </tr>\n",
       "    <tr>\n",
       "      <th>141636</th>\n",
       "      <td>129867.0</td>\n",
       "      <td>1.0</td>\n",
       "      <td>2011.542</td>\n",
       "      <td>30.609</td>\n",
       "      <td>0.0499</td>\n",
       "      <td>31.0</td>\n",
       "      <td>24.0</td>\n",
       "    </tr>\n",
       "  </tbody>\n",
       "</table>\n",
       "</div>"
      ],
      "text/plain": [
       "        Station_ID  Series_Number      Date  Temperature (C)  Uncertainty (C)  \\\n",
       "141632    129867.0            1.0  2011.208           12.885           0.0499   \n",
       "141633    129867.0            1.0  2011.292           17.630           0.0507   \n",
       "141634    129867.0            1.0  2011.375           20.341           0.0499   \n",
       "141635    129867.0            1.0  2011.458           27.852           0.0507   \n",
       "141636    129867.0            1.0  2011.542           30.609           0.0499   \n",
       "\n",
       "        Observations  Time of Observation  \n",
       "141632          31.0                 24.0  \n",
       "141633          30.0                 24.0  \n",
       "141634          31.0                 24.0  \n",
       "141635          30.0                 24.0  \n",
       "141636          31.0                 24.0  "
      ]
     },
     "execution_count": 5,
     "metadata": {},
     "output_type": "execute_result"
    }
   ],
   "source": [
    "tempData.columns=columns\n",
    "tempData.tail()"
   ]
  },
  {
   "cell_type": "code",
   "execution_count": 6,
   "metadata": {
    "collapsed": false
   },
   "outputs": [
    {
     "data": {
      "text/html": [
       "<div>\n",
       "<table border=\"1\" class=\"dataframe\">\n",
       "  <thead>\n",
       "    <tr style=\"text-align: right;\">\n",
       "      <th></th>\n",
       "      <th>Station_ID</th>\n",
       "      <th>Series_Number</th>\n",
       "      <th>Date</th>\n",
       "      <th>Temperature (C)</th>\n",
       "      <th>Uncertainty (C)</th>\n",
       "      <th>Observations</th>\n",
       "      <th>Time of Observation</th>\n",
       "    </tr>\n",
       "  </thead>\n",
       "  <tbody>\n",
       "    <tr>\n",
       "      <th>141632</th>\n",
       "      <td>129867</td>\n",
       "      <td>1</td>\n",
       "      <td>2011.208</td>\n",
       "      <td>12.885</td>\n",
       "      <td>0.0499</td>\n",
       "      <td>31</td>\n",
       "      <td>24.0</td>\n",
       "    </tr>\n",
       "    <tr>\n",
       "      <th>141633</th>\n",
       "      <td>129867</td>\n",
       "      <td>1</td>\n",
       "      <td>2011.292</td>\n",
       "      <td>17.630</td>\n",
       "      <td>0.0507</td>\n",
       "      <td>30</td>\n",
       "      <td>24.0</td>\n",
       "    </tr>\n",
       "    <tr>\n",
       "      <th>141634</th>\n",
       "      <td>129867</td>\n",
       "      <td>1</td>\n",
       "      <td>2011.375</td>\n",
       "      <td>20.341</td>\n",
       "      <td>0.0499</td>\n",
       "      <td>31</td>\n",
       "      <td>24.0</td>\n",
       "    </tr>\n",
       "    <tr>\n",
       "      <th>141635</th>\n",
       "      <td>129867</td>\n",
       "      <td>1</td>\n",
       "      <td>2011.458</td>\n",
       "      <td>27.852</td>\n",
       "      <td>0.0507</td>\n",
       "      <td>30</td>\n",
       "      <td>24.0</td>\n",
       "    </tr>\n",
       "    <tr>\n",
       "      <th>141636</th>\n",
       "      <td>129867</td>\n",
       "      <td>1</td>\n",
       "      <td>2011.542</td>\n",
       "      <td>30.609</td>\n",
       "      <td>0.0499</td>\n",
       "      <td>31</td>\n",
       "      <td>24.0</td>\n",
       "    </tr>\n",
       "  </tbody>\n",
       "</table>\n",
       "</div>"
      ],
      "text/plain": [
       "        Station_ID  Series_Number      Date  Temperature (C)  Uncertainty (C)  \\\n",
       "141632      129867              1  2011.208           12.885           0.0499   \n",
       "141633      129867              1  2011.292           17.630           0.0507   \n",
       "141634      129867              1  2011.375           20.341           0.0499   \n",
       "141635      129867              1  2011.458           27.852           0.0507   \n",
       "141636      129867              1  2011.542           30.609           0.0499   \n",
       "\n",
       "        Observations  Time of Observation  \n",
       "141632            31                 24.0  \n",
       "141633            30                 24.0  \n",
       "141634            31                 24.0  \n",
       "141635            30                 24.0  \n",
       "141636            31                 24.0  "
      ]
     },
     "execution_count": 6,
     "metadata": {},
     "output_type": "execute_result"
    }
   ],
   "source": [
    "tempData['Station_ID']=tempData['Station_ID'].astype(int)\n",
    "tempData['Series_Number']=tempData['Series_Number'].astype(int)\n",
    "tempData['Observations']=tempData['Observations'].astype(int)\n",
    "tempData.tail()"
   ]
  },
  {
   "cell_type": "code",
   "execution_count": 7,
   "metadata": {
    "collapsed": false
   },
   "outputs": [
    {
     "data": {
      "text/html": [
       "<div>\n",
       "<table border=\"1\" class=\"dataframe\">\n",
       "  <thead>\n",
       "    <tr style=\"text-align: right;\">\n",
       "      <th></th>\n",
       "      <th>Unnamed: 0</th>\n",
       "      <th>Station_ID</th>\n",
       "      <th>Series_Number</th>\n",
       "      <th>Date</th>\n",
       "      <th>X</th>\n",
       "    </tr>\n",
       "  </thead>\n",
       "  <tbody>\n",
       "    <tr>\n",
       "      <th>141632</th>\n",
       "      <td>141632</td>\n",
       "      <td>129867</td>\n",
       "      <td>1</td>\n",
       "      <td>2011.208</td>\n",
       "      <td>55.1930</td>\n",
       "    </tr>\n",
       "    <tr>\n",
       "      <th>141633</th>\n",
       "      <td>141633</td>\n",
       "      <td>129867</td>\n",
       "      <td>1</td>\n",
       "      <td>2011.292</td>\n",
       "      <td>63.7340</td>\n",
       "    </tr>\n",
       "    <tr>\n",
       "      <th>141634</th>\n",
       "      <td>141634</td>\n",
       "      <td>129867</td>\n",
       "      <td>1</td>\n",
       "      <td>2011.375</td>\n",
       "      <td>68.6138</td>\n",
       "    </tr>\n",
       "    <tr>\n",
       "      <th>141635</th>\n",
       "      <td>141635</td>\n",
       "      <td>129867</td>\n",
       "      <td>1</td>\n",
       "      <td>2011.458</td>\n",
       "      <td>82.1336</td>\n",
       "    </tr>\n",
       "    <tr>\n",
       "      <th>141636</th>\n",
       "      <td>141636</td>\n",
       "      <td>129867</td>\n",
       "      <td>1</td>\n",
       "      <td>2011.542</td>\n",
       "      <td>87.0962</td>\n",
       "    </tr>\n",
       "  </tbody>\n",
       "</table>\n",
       "</div>"
      ],
      "text/plain": [
       "        Unnamed: 0  Station_ID  Series_Number      Date        X\n",
       "141632      141632      129867              1  2011.208  55.1930\n",
       "141633      141633      129867              1  2011.292  63.7340\n",
       "141634      141634      129867              1  2011.375  68.6138\n",
       "141635      141635      129867              1  2011.458  82.1336\n",
       "141636      141636      129867              1  2011.542  87.0962"
      ]
     },
     "execution_count": 7,
     "metadata": {},
     "output_type": "execute_result"
    }
   ],
   "source": [
    "tempX.tail()"
   ]
  },
  {
   "cell_type": "code",
   "execution_count": 8,
   "metadata": {
    "collapsed": false
   },
   "outputs": [],
   "source": [
    "\n",
    "tempX['Key']=tempX['Date'].round(3).astype(str)\n",
    "tempData['Key']=tempData['Date'].round(3).astype(str)\n",
    "\n"
   ]
  },
  {
   "cell_type": "code",
   "execution_count": 9,
   "metadata": {
    "collapsed": false
   },
   "outputs": [
    {
     "data": {
      "text/html": [
       "<div>\n",
       "<table border=\"1\" class=\"dataframe\">\n",
       "  <thead>\n",
       "    <tr style=\"text-align: right;\">\n",
       "      <th></th>\n",
       "      <th>Station_ID</th>\n",
       "      <th>Series_Number</th>\n",
       "      <th>Date_x</th>\n",
       "      <th>Temperature (C)</th>\n",
       "      <th>Uncertainty (C)</th>\n",
       "      <th>Observations</th>\n",
       "      <th>Time of Observation</th>\n",
       "      <th>Key</th>\n",
       "      <th>Unnamed: 0</th>\n",
       "      <th>Date_y</th>\n",
       "      <th>X</th>\n",
       "    </tr>\n",
       "  </thead>\n",
       "  <tbody>\n",
       "    <tr>\n",
       "      <th>141632</th>\n",
       "      <td>129867</td>\n",
       "      <td>1</td>\n",
       "      <td>2011.208</td>\n",
       "      <td>12.885</td>\n",
       "      <td>0.0499</td>\n",
       "      <td>31</td>\n",
       "      <td>24.0</td>\n",
       "      <td>2011.208</td>\n",
       "      <td>141632</td>\n",
       "      <td>2011.208</td>\n",
       "      <td>55.1930</td>\n",
       "    </tr>\n",
       "    <tr>\n",
       "      <th>141633</th>\n",
       "      <td>129867</td>\n",
       "      <td>1</td>\n",
       "      <td>2011.292</td>\n",
       "      <td>17.630</td>\n",
       "      <td>0.0507</td>\n",
       "      <td>30</td>\n",
       "      <td>24.0</td>\n",
       "      <td>2011.292</td>\n",
       "      <td>141633</td>\n",
       "      <td>2011.292</td>\n",
       "      <td>63.7340</td>\n",
       "    </tr>\n",
       "    <tr>\n",
       "      <th>141634</th>\n",
       "      <td>129867</td>\n",
       "      <td>1</td>\n",
       "      <td>2011.375</td>\n",
       "      <td>20.341</td>\n",
       "      <td>0.0499</td>\n",
       "      <td>31</td>\n",
       "      <td>24.0</td>\n",
       "      <td>2011.375</td>\n",
       "      <td>141634</td>\n",
       "      <td>2011.375</td>\n",
       "      <td>68.6138</td>\n",
       "    </tr>\n",
       "    <tr>\n",
       "      <th>141635</th>\n",
       "      <td>129867</td>\n",
       "      <td>1</td>\n",
       "      <td>2011.458</td>\n",
       "      <td>27.852</td>\n",
       "      <td>0.0507</td>\n",
       "      <td>30</td>\n",
       "      <td>24.0</td>\n",
       "      <td>2011.458</td>\n",
       "      <td>141635</td>\n",
       "      <td>2011.458</td>\n",
       "      <td>82.1336</td>\n",
       "    </tr>\n",
       "    <tr>\n",
       "      <th>141636</th>\n",
       "      <td>129867</td>\n",
       "      <td>1</td>\n",
       "      <td>2011.542</td>\n",
       "      <td>30.609</td>\n",
       "      <td>0.0499</td>\n",
       "      <td>31</td>\n",
       "      <td>24.0</td>\n",
       "      <td>2011.542</td>\n",
       "      <td>141636</td>\n",
       "      <td>2011.542</td>\n",
       "      <td>87.0962</td>\n",
       "    </tr>\n",
       "  </tbody>\n",
       "</table>\n",
       "</div>"
      ],
      "text/plain": [
       "        Station_ID  Series_Number    Date_x  Temperature (C)  Uncertainty (C)  \\\n",
       "141632      129867              1  2011.208           12.885           0.0499   \n",
       "141633      129867              1  2011.292           17.630           0.0507   \n",
       "141634      129867              1  2011.375           20.341           0.0499   \n",
       "141635      129867              1  2011.458           27.852           0.0507   \n",
       "141636      129867              1  2011.542           30.609           0.0499   \n",
       "\n",
       "        Observations  Time of Observation       Key  Unnamed: 0    Date_y  \\\n",
       "141632            31                 24.0  2011.208      141632  2011.208   \n",
       "141633            30                 24.0  2011.292      141633  2011.292   \n",
       "141634            31                 24.0  2011.375      141634  2011.375   \n",
       "141635            30                 24.0  2011.458      141635  2011.458   \n",
       "141636            31                 24.0  2011.542      141636  2011.542   \n",
       "\n",
       "              X  \n",
       "141632  55.1930  \n",
       "141633  63.7340  \n",
       "141634  68.6138  \n",
       "141635  82.1336  \n",
       "141636  87.0962  "
      ]
     },
     "execution_count": 9,
     "metadata": {},
     "output_type": "execute_result"
    }
   ],
   "source": [
    "merged = pd.merge(tempData, tempX, how = 'left', on=['Station_ID','Series_Number','Key'])\n",
    "merged.tail()\n",
    "\n",
    "\n",
    "#s1 = pd.merge(df1, df2, how='left', on=['Year', 'Week', 'Colour'])"
   ]
  },
  {
   "cell_type": "code",
   "execution_count": 10,
   "metadata": {
    "collapsed": false
   },
   "outputs": [
    {
     "name": "stdout",
     "output_type": "stream",
     "text": [
      "                            OLS Regression Results                            \n",
      "==============================================================================\n",
      "Dep. Variable:                      y   R-squared:                       1.000\n",
      "Model:                            OLS   Adj. R-squared:                  1.000\n",
      "Method:                 Least Squares   F-statistic:                 5.685e+32\n",
      "Date:                Tue, 07 Mar 2017   Prob (F-statistic):               0.00\n",
      "Time:                        18:13:52   Log-Likelihood:             3.5965e+06\n",
      "No. Observations:              141637   AIC:                        -7.193e+06\n",
      "Df Residuals:                  141635   BIC:                        -7.193e+06\n",
      "Df Model:                           1                                         \n",
      "Covariance Type:            nonrobust                                         \n",
      "==============================================================================\n",
      "                 coef    std err          t      P>|t|      [95.0% Conf. Int.]\n",
      "------------------------------------------------------------------------------\n",
      "Intercept    -17.7778   6.19e-15  -2.87e+15      0.000       -17.778   -17.778\n",
      "X              0.5556   2.33e-17   2.38e+16      0.000         0.556     0.556\n",
      "==============================================================================\n",
      "Omnibus:                   492826.607   Durbin-Watson:                   1.128\n",
      "Prob(Omnibus):                  0.000   Jarque-Bera (JB):     126563974204.121\n",
      "Skew:                          67.372   Prob(JB):                         0.00\n",
      "Kurtosis:                    4632.013   Cond. No.                         273.\n",
      "==============================================================================\n",
      "\n",
      "Warnings:\n",
      "[1] Standard Errors assume that the covariance matrix of the errors is correctly specified.\n"
     ]
    }
   ],
   "source": [
    "# this is the standard import if you're using \"formula notation\" (similar to R)\n",
    "import statsmodels.formula.api as smf\n",
    "\n",
    "X = merged[['X']]\n",
    "y = merged['Temperature (C)']\n",
    "\n",
    "# create a fitted model in one line\n",
    "#formula notiation is the equivalent to writting out our models such that 'outcome = predictor'\n",
    "#with the follwing syntax formula = 'outcome ~ predictor1 + predictor2 ... predictorN'\n",
    "lm = smf.ols(formula='y ~ X', data=merged).fit()\n",
    "#print the full summary\n",
    "print lm.summary()"
   ]
  },
  {
   "cell_type": "code",
   "execution_count": 12,
   "metadata": {
    "collapsed": false
   },
   "outputs": [],
   "source": [
    "import seaborn as sns\n",
    "sns.set_style(\"darkgrid\")\n",
    "\n",
    "\n",
    "\n"
   ]
  },
  {
   "cell_type": "code",
   "execution_count": null,
   "metadata": {
    "collapsed": true
   },
   "outputs": [],
   "source": [
    "sns.lmplot(X, y, merged)\n",
    "merged[[X,y]].corr() "
   ]
  },
  {
   "cell_type": "code",
   "execution_count": null,
   "metadata": {
    "collapsed": true
   },
   "outputs": [],
   "source": [
    "#1) Interpret your coefficients!\n",
    "#Intercept = -17.777\n",
    "#Slope = 0.5556\n",
    "#R = 1\n",
    "#As X increases, the temperature increases by .5556 Celsius per X, starting at -17 degrees Celsius when X = 0.\n",
    "#X can basically be interpreted as another measure of temperature on a different scale (not Celsisus)\n",
    "#Since R=1, the relationship is close to perfectly modeled by the coefficients.\n",
    "#Upon closer insepction X is farenheit\n",
    "\n",
    "#2) What is one potential use for this linear regression equation?\n",
    "#It can be used to predict temperatures at X values that are more extreme than the data.  However, since X is\n",
    "#farenheit, it is not very useful.\n",
    "\n",
    "#3) What does this linear regression mean?\n",
    "#A farenheit measure is very closely correlated to a celsius measure of the same underlying temperature.\n",
    "\n",
    "#4) Is this a good model? Why or why not?\n",
    "#It is not a very useful model.  We are correlating between two measures of temperature..."
   ]
  }
 ],
 "metadata": {
  "kernelspec": {
   "display_name": "Python 2",
   "language": "python",
   "name": "python2"
  },
  "language_info": {
   "codemirror_mode": {
    "name": "ipython",
    "version": 2
   },
   "file_extension": ".py",
   "mimetype": "text/x-python",
   "name": "python",
   "nbconvert_exporter": "python",
   "pygments_lexer": "ipython2",
   "version": "2.7.13"
  }
 },
 "nbformat": 4,
 "nbformat_minor": 0
}
