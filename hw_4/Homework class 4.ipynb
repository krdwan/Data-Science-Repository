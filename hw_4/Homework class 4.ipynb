{
 "cells": [
  {
   "cell_type": "markdown",
   "metadata": {},
   "source": [
    "### Homework 4\n",
    "\n",
    "+ You now have the tools to come up with a solid research question\n",
    "+ With an *idea* of how you might answer it\n",
    "+ Now create two for your final project! \n"
   ]
  },
  {
   "cell_type": "markdown",
   "metadata": {},
   "source": [
    "### Step 1\n",
    "\n",
    "+ Choose a freely available dataset\n",
    "+ Checkout public_data.md on course github"
   ]
  },
  {
   "cell_type": "markdown",
   "metadata": {},
   "source": [
    "### Step 2\n",
    "\n",
    "+ Choose an outcome you are interested in\n",
    "+ Is it categorical? Linear? "
   ]
  },
  {
   "cell_type": "markdown",
   "metadata": {},
   "source": [
    "### Step 3\n",
    "\n",
    "+ What do you want to know that we don't already know?"
   ]
  },
  {
   "cell_type": "code",
   "execution_count": null,
   "metadata": {
    "collapsed": true
   },
   "outputs": [],
   "source": [
    "\"\"\"\n",
    "Information on News Articles (top 25 each day)\n",
    "Can scroll through the data and find if specific words or headlines / phrases are correlated with up or down days in the market\n",
    "I do not believe there will be any correlation... \n",
    "Question?  How can I pull stock data?\n",
    "https://www.kaggle.com/aaron7sun/stocknews\n",
    "\n",
    "Speed Dating Information\n",
    "Useful Guide Questions\n",
    "What are the least desirable attributes in a male partner? Does this differ for female partners?\n",
    "How important do people think attractiveness is in potential mate selection vs. its real impact?\n",
    "Are shared interests more important than a shared racial background?\n",
    "Can people accurately predict their own perceived value in the dating market?\n",
    "In terms of getting a second date, is it better to be someone's first speed date of the night or their last?\n",
    "https://www.kaggle.com/annavictoria/speed-dating-experiment\n",
    "\n",
    "Various Information on Young People\n",
    "Clustering: Given the music preferences, do people make up any clusters of similar behavior?\n",
    "Hypothesis testing: Do women fear certain phenomena significantly more than men? Do the left handed people have different interests than right handed?\n",
    "Predictive modeling: Can we predict spending habits of a person from his/her interests and movie or music preferences?\n",
    "Dimension reduction: Can we describe a large number of human interests by a smaller number of latent concepts?\n",
    "Correlation analysis: Are there any connections between music and movie preferences?\n",
    "Visualization: How to effectively visualize a lot of variables in order to gain some meaningful insights from the data?\n",
    "(Multivariate) Outlier detection: Small number of participants often cheats and randomly answers the questions. Can you identify them? Hint: Local outlier factor may help.\n",
    "Missing values analysis: Are there any patterns in missing responses? What is the optimal way of imputing the values in surveys?\n",
    "Recommendations: If some of user's interests are known, can we predict the other? Or, if we know what a person listen, can we predict which kind of movies he/she might like?\n",
    "https://www.kaggle.com/miroslavsabo/young-people-survey\n",
    "\n",
    "\n",
    "Example Data Sets for Reserach from the Worldbank (from class github)\n",
    "How do you view the data set?\n",
    "http://data.worldbank.org/data-catalog/research-datasets-analytical-tools\n",
    "\n",
    "\n",
    "Stock Prices - Need Help Understanding How to Download / View Columns\n",
    "Interested Outcome - Stock Price (this is linear)\n",
    "Questions - What drives this?  Holidays?  Other external events?\n",
    "https://www.quandl.com/data/WIKI-Wiki-EOD-Stock-Prices/documentation/documentation?modal=null\n",
    "\n",
    "\"\"\""
   ]
  }
 ],
 "metadata": {
  "kernelspec": {
   "display_name": "Python 2",
   "language": "python",
   "name": "python2"
  },
  "language_info": {
   "codemirror_mode": {
    "name": "ipython",
    "version": 2
   },
   "file_extension": ".py",
   "mimetype": "text/x-python",
   "name": "python",
   "nbconvert_exporter": "python",
   "pygments_lexer": "ipython2",
   "version": "2.7.13"
  }
 },
 "nbformat": 4,
 "nbformat_minor": 0
}
